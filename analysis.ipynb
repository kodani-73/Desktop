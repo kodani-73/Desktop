{
  "nbformat": 4,
  "nbformat_minor": 0,
  "metadata": {
    "colab": {
      "provenance": [],
      "authorship_tag": "ABX9TyNygE5uO8i1bvxsNNu9gudk",
      "include_colab_link": true
    },
    "kernelspec": {
      "name": "python3",
      "display_name": "Python 3"
    },
    "language_info": {
      "name": "python"
    }
  },
  "cells": [
    {
      "cell_type": "markdown",
      "metadata": {
        "id": "view-in-github",
        "colab_type": "text"
      },
      "source": [
        "<a href=\"https://colab.research.google.com/github/kodani-73/Desktop/blob/main/analysis.ipynb\" target=\"_parent\"><img src=\"https://colab.research.google.com/assets/colab-badge.svg\" alt=\"Open In Colab\"/></a>"
      ]
    },
    {
      "cell_type": "code",
      "source": [
        "import pandas as pd\n",
        "import numpy as np\n",
        "from sklearn.model_selection import train_test_split\n",
        "from sklearn.preprocessing import StandardScaler\n",
        "from sklearn.linear_model import LogisticRegression\n",
        "from sklearn.ensemble import RandomForestClassifier\n",
        "from sklearn.metrics import accuracy_score, roc_auc_score\n",
        "from sklearn.decomposition import PCA\n",
        "from sklearn.cluster import KMeans\n",
        "from sklearn.impute import SimpleImputer"
      ],
      "metadata": {
        "id": "IjJkXChvYzIU"
      },
      "execution_count": 30,
      "outputs": []
    },
    {
      "cell_type": "code",
      "source": [
        "# データセットの読み込み\n",
        "train_df = pd.read_csv('/content/train.csv')\n",
        "test_df = pd.read_csv('/content/test.csv', on_bad_lines='skip')\n",
        "sample_submission_df = pd.read_csv('/content/sample_submission.csv')"
      ],
      "metadata": {
        "id": "4kxls_JkY0Y0"
      },
      "execution_count": 31,
      "outputs": []
    },
    {
      "cell_type": "code",
      "source": [
        "# 特徴量とターゲットの分離\n",
        "X = train_df.drop(columns=['target'])\n",
        "y = train_df['target']"
      ],
      "metadata": {
        "id": "eDxWibabY1-F"
      },
      "execution_count": 32,
      "outputs": []
    },
    {
      "cell_type": "code",
      "source": [
        "# 欠損値の処理（平均値で埋める）\n",
        "imputer = SimpleImputer(strategy='mean')\n",
        "X_imputed = imputer.fit_transform(X)\n",
        "test_imputed = imputer.transform(test_df)"
      ],
      "metadata": {
        "id": "a3Drid3fY4ir"
      },
      "execution_count": 33,
      "outputs": []
    },
    {
      "cell_type": "code",
      "source": [
        "# データの標準化\n",
        "scaler = StandardScaler()\n",
        "X_scaled = scaler.fit_transform(X_imputed)\n",
        "test_scaled = scaler.transform(test_imputed)\n",
        "\n",
        "# 訓練データと検証データに分割\n",
        "X_train, X_val, y_train, y_val = train_test_split(X_scaled, y, test_size=0.2, random_state=42)"
      ],
      "metadata": {
        "id": "gkG7Doh4Y578"
      },
      "execution_count": 34,
      "outputs": []
    },
    {
      "cell_type": "code",
      "source": [
        "# ロジスティック回帰モデル\n",
        "log_reg = LogisticRegression()\n",
        "log_reg.fit(X_train, y_train)\n",
        "y_pred_log_reg = log_reg.predict(X_val)\n",
        "y_pred_proba_log_reg = log_reg.predict_proba(X_val)[:, 1]\n",
        "\n",
        "# ランダムフォレストモデル\n",
        "rf_clf = RandomForestClassifier(n_estimators=100, random_state=42)\n",
        "rf_clf.fit(X_train, y_train)\n",
        "y_pred_rf = rf_clf.predict(X_val)\n",
        "y_pred_proba_rf = rf_clf.predict_proba(X_val)[:, 1]\n",
        "\n",
        "# モデルの評価\n",
        "print(f'Logistic Regression Accuracy: {accuracy_score(y_val, y_pred_log_reg)}')\n",
        "print(f'Logistic Regression ROC AUC: {roc_auc_score(y_val, y_pred_proba_log_reg)}')\n",
        "print(f'Random Forest Accuracy: {accuracy_score(y_val, y_pred_rf)}')\n",
        "print(f'Random Forest ROC AUC: {roc_auc_score(y_val, y_pred_proba_rf)}')"
      ],
      "metadata": {
        "colab": {
          "base_uri": "https://localhost:8080/"
        },
        "id": "SrhQHbW7Y778",
        "outputId": "42b6e51a-f53c-4997-b942-e25fb8ce9f9d"
      },
      "execution_count": 35,
      "outputs": [
        {
          "output_type": "stream",
          "name": "stdout",
          "text": [
            "Logistic Regression Accuracy: 0.7654\n",
            "Logistic Regression ROC AUC: 0.832920687967261\n",
            "Random Forest Accuracy: 0.9134\n",
            "Random Forest ROC AUC: 0.9600960364004213\n"
          ]
        }
      ]
    },
    {
      "cell_type": "code",
      "source": [
        "# PCAによる次元削減\n",
        "pca = PCA(n_components=2)\n",
        "X_pca = pca.fit_transform(X_scaled)\n",
        "\n",
        "# KMeansクラスタリング\n",
        "kmeans = KMeans(n_clusters=2, random_state=42)\n",
        "clusters = kmeans.fit_predict(X_pca)\n",
        "\n",
        "# クラスタリング結果を特徴量に追加\n",
        "X_with_clusters = np.hstack((X_scaled, clusters.reshape(-1, 1)))\n",
        "\n",
        "# 再度訓練データと検証データに分割\n",
        "X_train_wc, X_val_wc, y_train_wc, y_val_wc = train_test_split(X_with_clusters, y, test_size=0.2, random_state=42)\n",
        "\n",
        "# ロジスティック回帰モデルの再学習\n",
        "log_reg_wc = LogisticRegression()\n",
        "log_reg_wc.fit(X_train_wc, y_train_wc)\n",
        "y_pred_log_reg_wc = log_reg_wc.predict(X_val_wc)\n",
        "y_pred_proba_log_reg_wc = log_reg_wc.predict_proba(X_val_wc)[:, 1]\n",
        "\n",
        "# モデルの評価\n",
        "print(f'Logistic Regression with Clustering Accuracy: {accuracy_score(y_val_wc, y_pred_log_reg_wc)}')\n",
        "print(f'Logistic Regression with Clustering ROC AUC: {roc_auc_score(y_val_wc, y_pred_proba_log_reg_wc)}')"
      ],
      "metadata": {
        "colab": {
          "base_uri": "https://localhost:8080/"
        },
        "id": "Zc7eCkx4ZBcd",
        "outputId": "8065647a-1018-4a54-d9ba-384844f1dbc7"
      },
      "execution_count": 36,
      "outputs": [
        {
          "output_type": "stream",
          "name": "stderr",
          "text": [
            "/usr/local/lib/python3.10/dist-packages/sklearn/cluster/_kmeans.py:1416: FutureWarning: The default value of `n_init` will change from 10 to 'auto' in 1.4. Set the value of `n_init` explicitly to suppress the warning\n",
            "  super()._check_params_vs_input(X, default_n_init=10)\n"
          ]
        },
        {
          "output_type": "stream",
          "name": "stdout",
          "text": [
            "Logistic Regression with Clustering Accuracy: 0.7653\n",
            "Logistic Regression with Clustering ROC AUC: 0.8332350171330996\n"
          ]
        }
      ]
    },
    {
      "cell_type": "code",
      "source": [
        "# テストデータの予測\n",
        "test_with_clusters = np.hstack((test_scaled, kmeans.predict(pca.transform(test_scaled)).reshape(-1, 1)))\n",
        "test_pred_proba = log_reg_wc.predict_proba(test_with_clusters)[:, 1]\n",
        "\n",
        "# 提出用データの作成\n",
        "submission_df = sample_submission_df.copy()\n",
        "\n",
        "# 長さが一致することを確認\n",
        "if len(test_pred_proba) != len(submission_df):\n",
        "    print(f\"Warning: Length mismatch. Predicted: {len(test_pred_proba)}, Submission: {len(submission_df)}\")\n",
        "else:\n",
        "    submission_df['target'] = test_pred_proba\n",
        "\n",
        "# 提出データの保存\n",
        "submission_df.to_csv('/content/submission.csv', index=False)\n"
      ],
      "metadata": {
        "colab": {
          "base_uri": "https://localhost:8080/"
        },
        "id": "OCr8VZhXWc88",
        "outputId": "c2c3b35e-2d71-4a17-d8de-14d5d140d5a8"
      },
      "execution_count": 37,
      "outputs": [
        {
          "output_type": "stream",
          "name": "stdout",
          "text": [
            "Warning: Length mismatch. Predicted: 19997, Submission: 20000\n"
          ]
        }
      ]
    }
  ]
}